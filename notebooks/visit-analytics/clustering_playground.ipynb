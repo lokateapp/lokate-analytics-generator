{
 "cells": [
  {
   "cell_type": "code",
   "execution_count": 18,
   "metadata": {},
   "outputs": [],
   "source": [
    "import numpy as np\n",
    "from sklearn.cluster import KMeans\n",
    "from sklearn.preprocessing import OneHotEncoder, LabelEncoder\n",
    "import random"
   ]
  },
  {
   "cell_type": "code",
   "execution_count": 19,
   "metadata": {},
   "outputs": [],
   "source": [
    "def encode_campaigns(sequences, campaigns):\n",
    "    enc = OneHotEncoder(categories=[campaigns], sparse_output=False)\n",
    "    encoded_sequences = []\n",
    "    for sequence in sequences:\n",
    "        encoded_sequence = enc.fit_transform(np.array(sequence).reshape(-1, 1))\n",
    "        encoded_sequences.append(encoded_sequence)\n",
    "    print(encoded_sequences)\n",
    "    return np.array(encoded_sequences)"
   ]
  },
  {
   "cell_type": "code",
   "execution_count": 20,
   "metadata": {},
   "outputs": [],
   "source": [
    "def generate_random_sequences(campaigns):\n",
    "    num_sequences = 1000000\n",
    "\n",
    "    min_length = 5\n",
    "    max_length = 15\n",
    "\n",
    "    random_sequences = []\n",
    "    for _ in range(num_sequences):\n",
    "        sequence_length = random.randint(min_length, max_length)\n",
    "        sequence = random.choices(campaigns, k=sequence_length)\n",
    "        random_sequences.append(sequence)\n",
    "\n",
    "    return random_sequences"
   ]
  },
  {
   "cell_type": "code",
   "execution_count": 21,
   "metadata": {},
   "outputs": [],
   "source": [
    "campaigns = [\n",
    "    'seker_sakiz', 'cikolata_biskuvi', 'cips', 'gevrek', 'bebek', \n",
    "    'sampuan_dusjeli', 'sabun', 'kisisel_bakim', 'camasir', 'bulasik', \n",
    "    'ev_temizligi', 'makarna_pirinc_bakliyat', 'hazirgida_baharat', \n",
    "    'sigara', 'pasta', 'peynir_tereyagi', 'dondurulmus', 'yumurta', \n",
    "    'salam_sosis_sucuk', 'kahve', 'cay', 'alet', 'sos', 'ekmek', \n",
    "    'sivi_yag', 'meyve_sebze', 'maden_suyu', 'icecek', 'kolonya', \n",
    "    'konserve_salca', 'pecete', 'mangal', 'poset', 'recel_bal', \n",
    "    'porselen', 'dondurma', 'kedi_kopek', 'kuruyemis', 'plastik', \n",
    "    'su', 'sut', 'ayran_yogurt', 'pil'\n",
    "]\n",
    "\n",
    "campaign_sequences = generate_random_sequences(campaigns)"
   ]
  },
  {
   "cell_type": "code",
   "execution_count": 23,
   "metadata": {},
   "outputs": [
    {
     "name": "stdout",
     "output_type": "stream",
     "text": [
      "Cluster information saved to clusters_output.txt.\n"
     ]
    }
   ],
   "source": [
    "# Pad sequences to the maximum length\n",
    "max_length = max(len(seq) for seq in campaign_sequences)\n",
    "padded_sequences = []\n",
    "for seq in campaign_sequences:\n",
    "    padded_seq = seq + [''] * (max_length - len(seq))\n",
    "    padded_sequences.append(padded_seq)\n",
    "\n",
    "# Encode campaigns using LabelEncoder\n",
    "label_encoder = LabelEncoder()\n",
    "encoded_sequences = np.array([label_encoder.fit_transform(seq) for seq in padded_sequences])\n",
    "\n",
    "# Apply one-hot encoding\n",
    "enc = OneHotEncoder(categories='auto', sparse_output=False)\n",
    "encoded_sequences_one_hot = enc.fit_transform(encoded_sequences)\n",
    "\n",
    "# Apply k-means clustering\n",
    "k = 12  # Number of clusters\n",
    "kmeans = KMeans(n_clusters=k)\n",
    "kmeans.fit(encoded_sequences_one_hot)\n",
    "\n",
    "cluster_labels = kmeans.labels_\n",
    "\n",
    "# Assign clusters to campaign sequences\n",
    "clustered_sequences = {}\n",
    "for i, label in enumerate(cluster_labels):\n",
    "    if label not in clustered_sequences:\n",
    "        clustered_sequences[label] = []\n",
    "    clustered_sequences[label].append(campaign_sequences[i])\n",
    "\n",
    "output_clusters_file = 'clusters_output.txt'\n",
    "with open(output_clusters_file, 'w') as f:\n",
    "    for cluster, sequences in clustered_sequences.items():\n",
    "        f.write(f\"Cluster {cluster}:\\n\")\n",
    "        for seq in sequences:\n",
    "            f.write(','.join(seq) + '\\n')\n",
    "        f.write('\\n')\n",
    "\n",
    "print(f\"Cluster information saved to {output_clusters_file}.\")"
   ]
  }
 ],
 "metadata": {
  "kernelspec": {
   "display_name": "Python 3",
   "language": "python",
   "name": "python3"
  },
  "language_info": {
   "codemirror_mode": {
    "name": "ipython",
    "version": 3
   },
   "file_extension": ".py",
   "mimetype": "text/x-python",
   "name": "python",
   "nbconvert_exporter": "python",
   "pygments_lexer": "ipython3",
   "version": "3.11.8"
  }
 },
 "nbformat": 4,
 "nbformat_minor": 2
}
